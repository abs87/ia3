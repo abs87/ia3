{
 "cells": [
  {
   "cell_type": "code",
   "execution_count": 1,
   "metadata": {},
   "outputs": [],
   "source": [
    "import matplotlib.pyplot as plt    \n",
    "import pandas as pd\n",
    "import numpy as np"
   ]
  },
  {
   "cell_type": "code",
   "execution_count": 2,
   "metadata": {},
   "outputs": [],
   "source": [
    "def kernel(point,xmat, k):        \n",
    "    m,n = np.shape(xmat)        \n",
    "    weights = np.mat(np.eye((m))     \n",
    "    for j in range(m):            \n",
    "        diff = point - X[j]            \n",
    "        weights[j,j] = np.exp(diff*diff.T/(-2.0*k**2))         \n",
    "    return weights"
   ]
  },
  {
   "cell_type": "code",
   "execution_count": 3,
   "metadata": {},
   "outputs": [],
   "source": [
    "def localWeight(point,xmat,ymat,k):\n",
    "    wei = kernel(point,xmat,k)\n",
    "    W = (X.T*(wei*X)).I*(X.T*(wei*ymat.T))\n",
    "    return W"
   ]
  },
  {
   "cell_type": "code",
   "execution_count": 4,
   "metadata": {},
   "outputs": [],
   "source": [
    "def localWeightRegression(xmat,ymat,k):\n",
    "    m,n = np.shape(xmat)        \n",
    "    ypred = np.zeros(m)        \n",
    "    for i in range(m):            \n",
    "        ypred[i] = xmat[i]*localWeight(xmat[i],xmat,ymat,k)        \n",
    "    return ypred"
   ]
  },
  {
   "cell_type": "code",
   "execution_count": 5,
   "metadata": {},
   "outputs": [],
   "source": [
    "def graphPlot(X,ypred):            \n",
    "    sortindex = X[:,1].argsort(0)        \n",
    "    xsort = X[sortindex][:,0]              \n",
    "    fig = plt.figure()        \n",
    "    ax = fig.add_subplot(1,1,1)        \n",
    "    ax.scatter(bill,tip, color='green')        \n",
    "    ax.plot(xsort[:,1],ypred[sortindex], color = 'red', linewidth=5)        \n",
    "    plt.xlabel('Total bill')        \n",
    "    plt.ylabel('Tip')        \n",
    "    plt.show();"
   ]
  },
  {
   "cell_type": "code",
   "execution_count": 6,
   "metadata": {},
   "outputs": [],
   "source": [
    "data = pd.read_csv('data10_tips.csv')\n",
    "bill = np.array(data.total_bill) \n",
    "tip  = np.array(data.tip)"
   ]
  },
  {
   "cell_type": "code",
   "execution_count": 7,
   "metadata": {},
   "outputs": [],
   "source": [
    "mbill = np.mat(bill)  \n",
    "mtip = np.mat(tip)    \n",
    "m= np.shape(mbill)[1]   \n",
    "one = np.mat(np.ones(m))    \n",
    "X = np.hstack((one.T,mbill.T))"
   ]
  },
  {
   "cell_type": "code",
   "execution_count": 8,
   "metadata": {},
   "outputs": [
    {
     "data": {
      "image/png": "[encoded data removed]",
      "text/plain": [
       "<Figure size 432x288 with 1 Axes>"
      ]
     },
     "metadata": {
      "needs_background": "light"
     },
     "output_type": "display_data"
    }
   ],
   "source": [
    "ypred = localWeightRegression(X,mtip,9)     \n",
    "graphPlot(X,ypred)"
   ]
  },
  {
   "cell_type": "code",
   "execution_count": null,
   "metadata": {},
   "outputs": [],
   "source": []
  }
 ],
 "metadata": {
  "kernelspec": {
   "display_name": "Python 3",
   "language": "python",
   "name": "python3"
  },
  "language_info": {
   "codemirror_mode": {
    "name": "ipython",
    "version": 3
   },
   "file_extension": ".py",
   "mimetype": "text/x-python",
   "name": "python",
   "nbconvert_exporter": "python",
   "pygments_lexer": "ipython3",
   "version": "3.7.3"
  }
 },
 "nbformat": 4,
 "nbformat_minor": 2
}
